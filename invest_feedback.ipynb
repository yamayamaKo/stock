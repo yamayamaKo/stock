{
 "cells": [
  {
   "cell_type": "code",
   "execution_count": 5,
   "id": "competitive-cameroon",
   "metadata": {},
   "outputs": [
    {
     "name": "stdout",
     "output_type": "stream",
     "text": [
      "    Unnamed: 0  trades  Total return  Average Gain  Average Loss        勝率  \\\n",
      "0          MMM       9        -12.37          6.19         -5.00  0.333333   \n",
      "1          AOS      11         26.44         13.73         -3.43  0.363636   \n",
      "2          ABT       6         80.95         30.71         -4.00  0.500000   \n",
      "3         ABBV       7         82.34         19.99         -2.00  0.571429   \n",
      "4         ABMD       7        352.27         50.96         -6.00  0.714286   \n",
      "..         ...     ...           ...           ...           ...       ...   \n",
      "500        YUM       8         25.18         24.27         -3.00  0.250000   \n",
      "501       ZBRA       9        173.86         29.03         -3.09  0.555556   \n",
      "502        ZBH      13        -31.45          4.83         -4.15  0.153846   \n",
      "503       ZION       9         45.59         26.44         -4.27  0.333333   \n",
      "504        ZTS       7        111.50         40.75         -3.00  0.428571   \n",
      "\n",
      "     Average gain and profit  average holding period  \n",
      "0                  -1.271497              117.000000  \n",
      "1                   2.809092              115.727273  \n",
      "2                  13.353003               59.000000  \n",
      "3                  10.563731              128.571429  \n",
      "4                  34.687250              133.166667  \n",
      "..                       ...                     ...  \n",
      "500                 3.816676              187.625000  \n",
      "501                14.753358               43.200000  \n",
      "502                -2.772513               54.750000  \n",
      "503                 5.964641              141.125000  \n",
      "504                15.748274               80.666667  \n",
      "\n",
      "[505 rows x 8 columns]\n",
      "|trade average| |9.453465346534653|\n",
      "|total return average| |37.42524752475248|\n",
      "|gain average| |19.844930693069305|\n",
      "|loss average| |-3.847980198019802|\n",
      "|Batting ratio average| |0.3813914546032224|\n",
      "|Average gain and profit| |5.327749623231937|\n",
      "|average_holding_period| |130.05736326412213|\n",
      "|Time efficiency| |0.04096461353297065|\n"
     ]
    }
   ],
   "source": [
    "import pandas as pd\n",
    "\n",
    "df = pd.read_csv('turtle/./turtle_result.csv')\n",
    "\n",
    "print(df)\n",
    "\n",
    "trades_ave = df['trades'].mean()\n",
    "total_return_ave = df['Total return'].mean()\n",
    "average_gain_ave = df['Average Gain'].mean()\n",
    "average_loss_ave = df['Average Loss'].mean()\n",
    "average_batting_ratio = df['勝率'].mean()\n",
    "ave_total = df['Average gain and profit'].mean()\n",
    "ave_holding = df['average holding period'].mean()\n",
    "\n",
    "print('|trade average| |{}|'.format(trades_ave))\n",
    "print('|total return average| |{}|'.format(total_return_ave))\n",
    "print('|gain average| |{}|'.format(average_gain_ave))\n",
    "print('|loss average| |{}|'.format(average_loss_ave))\n",
    "print('|Batting ratio average| |{}|'.format(average_batting_ratio))\n",
    "print('|Average gain and profit| |{}|'.format(ave_total))\n",
    "print('|average_holding_period| |{}|'.format(ave_holding))\n",
    "print('|Time efficiency| |{}|'.format(ave_total/ave_holding))\n",
    "\n",
    "\n",
    "#['ATVI', 'AMD', 'ALXN', 'ALGN', 'GOOGL', 'GOOG', 'AMZN', 'AEP', 'AMGN', 'ADI'\n",
    "#         , 'ANSYS', 'ANSS', 'AAPL', 'AMAT', 'ASML', 'TEAM', 'ADSK', 'ADP', 'BIDU', 'BIIB', 'BKNG'\n",
    "#         , 'AVGO', 'CDNS', 'CDW', 'CDW', 'CERN', 'CHTR', 'CHKP', 'CTAS', 'CSCO', 'CTSH', 'CMCSA'\n",
    "#         , 'CPRT', 'COST', 'CSX', 'DXCM', 'DOCU', 'DLTR', 'EBAY', 'EA', 'EXC', 'FB', 'FAST'\n",
    "#         , 'FISV', 'FOXA', 'FOX', 'GILD', 'IDXX', 'ILMN', 'INCY', 'INTC', 'INTU', 'ISRG', 'JD'\n",
    "#         , 'KDP', 'KLAC', 'KHC', 'LRCX', 'LULU', 'MAR', 'MRVL', 'MTCH', 'MXIM', 'MELI', 'MCHP', 'MU'\n",
    "#         , 'MSFT', 'MRNA', 'MDLZ', 'MNST', 'NTES', 'NFLX', 'NVDA', 'NXPI', 'ORLY', 'OKTA', 'PCAR', 'PAYX'\n",
    "#         , 'PYPL', 'PTON', 'PEP', 'PDD', 'QUALCOMM', 'QCOM', 'REGN', 'ROST', 'SGEN', 'SIRI', 'SWKS', 'SPLK'\n",
    "#         , 'SBUX', 'SNPS', 'TMUS', 'TSLA', 'TXN', 'TCOM', 'VRSN', 'VRSK', 'VRTX', 'WBA', 'WDAY', 'XEL', 'XLNX'\n",
    "#         , 'ZM']"
   ]
  }
 ],
 "metadata": {
  "kernelspec": {
   "display_name": "Python 3",
   "language": "python",
   "name": "python3"
  },
  "language_info": {
   "codemirror_mode": {
    "name": "ipython",
    "version": 3
   },
   "file_extension": ".py",
   "mimetype": "text/x-python",
   "name": "python",
   "nbconvert_exporter": "python",
   "pygments_lexer": "ipython3",
   "version": "3.7.9"
  }
 },
 "nbformat": 4,
 "nbformat_minor": 5
}
