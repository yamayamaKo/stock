{
 "cells": [
  {
   "cell_type": "code",
   "execution_count": 24,
   "id": "competitive-cameroon",
   "metadata": {},
   "outputs": [
    {
     "name": "stdout",
     "output_type": "stream",
     "text": [
      "    Unnamed: 0  trades  Total return  Average Gain  Average Loss        勝率  \\\n",
      "0         ATVI       8         35.86         21.88         -1.12  0.250000   \n",
      "1          AMD      12        350.26        137.53         -5.80  0.333333   \n",
      "2         ALXN      13        -39.44          0.00         -3.74  0.000000   \n",
      "3         ALGN       5        560.12        647.08         -3.00  0.200000   \n",
      "4        GOOGL       1        224.06        224.06          0.00  1.000000   \n",
      "..         ...     ...           ...           ...           ...       ...   \n",
      "99         WBA       9        -25.57          7.89         -4.50  0.111111   \n",
      "100       WDAY       4        127.61        161.10         -4.42  0.250000   \n",
      "101        XEL       2         95.79        108.29         -6.00  0.500000   \n",
      "102       XLNX       4        190.23        208.75         -2.00  0.250000   \n",
      "103         ZM       2        281.87        330.88        -11.37  0.500000   \n",
      "\n",
      "     Average gain and profit  \n",
      "0                   4.630585  \n",
      "1                  41.976673  \n",
      "2                  -3.741366  \n",
      "3                 127.015317  \n",
      "4                 224.055937  \n",
      "..                       ...  \n",
      "99                 -3.123581  \n",
      "100                36.959449  \n",
      "101                51.142853  \n",
      "102                50.688146  \n",
      "103               159.752106  \n",
      "\n",
      "[104 rows x 7 columns]\n",
      "|trade average| |5.519230769230769|\n",
      "|total return average| |194.66336538461536|\n",
      "|gain average| |208.26836538461538|\n",
      "|loss average| |-3.286346153846154|\n",
      "|Batting ratio average| |0.3024664877606054|\n",
      "|Average gain and profit| |85.94439939337687|\n"
     ]
    }
   ],
   "source": [
    "import pandas as pd\n",
    "\n",
    "df = pd.read_csv('turtle/./turtle_result.csv')\n",
    "\n",
    "print(df)\n",
    "\n",
    "trades_ave = df['trades'].mean()\n",
    "total_return_ave = df['Total return'].mean()\n",
    "average_gain_ave = df['Average Gain'].mean()\n",
    "average_loss_ave = df['Average Loss'].mean()\n",
    "average_batting_ratio = df['勝率'].mean()\n",
    "ave_total = df['Average gain and profit'].mean()\n",
    "\n",
    "print('|trade average| |{}|'.format(trades_ave))\n",
    "print('|total return average| |{}|'.format(total_return_ave))\n",
    "print('|gain average| |{}|'.format(average_gain_ave))\n",
    "print('|loss average| |{}|'.format(average_loss_ave))\n",
    "print('|Batting ratio average| |{}|'.format(average_batting_ratio))\n",
    "print('|Average gain and profit| |{}|'.format(ave_total))\n",
    "\n",
    "\n",
    "\n",
    "#['ATVI', 'AMD', 'ALXN', 'ALGN', 'GOOGL', 'GOOG', 'AMZN', 'AEP', 'AMGN', 'ADI'\n",
    "#         , 'ANSYS', 'ANSS', 'AAPL', 'AMAT', 'ASML', 'TEAM', 'ADSK', 'ADP', 'BIDU', 'BIIB', 'BKNG'\n",
    "#         , 'AVGO', 'CDNS', 'CDW', 'CDW', 'CERN', 'CHTR', 'CHKP', 'CTAS', 'CSCO', 'CTSH', 'CMCSA'\n",
    "#         , 'CPRT', 'COST', 'CSX', 'DXCM', 'DOCU', 'DLTR', 'EBAY', 'EA', 'EXC', 'FB', 'FAST'\n",
    "#         , 'FISV', 'FOXA', 'FOX', 'GILD', 'IDXX', 'ILMN', 'INCY', 'INTC', 'INTU', 'ISRG', 'JD'\n",
    "#         , 'KDP', 'KLAC', 'KHC', 'LRCX', 'LULU', 'MAR', 'MRVL', 'MTCH', 'MXIM', 'MELI', 'MCHP', 'MU'\n",
    "#         , 'MSFT', 'MRNA', 'MDLZ', 'MNST', 'NTES', 'NFLX', 'NVDA', 'NXPI', 'ORLY', 'OKTA', 'PCAR', 'PAYX'\n",
    "#         , 'PYPL', 'PTON', 'PEP', 'PDD', 'QUALCOMM', 'QCOM', 'REGN', 'ROST', 'SGEN', 'SIRI', 'SWKS', 'SPLK'\n",
    "#         , 'SBUX', 'SNPS', 'TMUS', 'TSLA', 'TXN', 'TCOM', 'VRSN', 'VRSK', 'VRTX', 'WBA', 'WDAY', 'XEL', 'XLNX'\n",
    "#         , 'ZM']"
   ]
  }
 ],
 "metadata": {
  "kernelspec": {
   "display_name": "Python 3",
   "language": "python",
   "name": "python3"
  },
  "language_info": {
   "codemirror_mode": {
    "name": "ipython",
    "version": 3
   },
   "file_extension": ".py",
   "mimetype": "text/x-python",
   "name": "python",
   "nbconvert_exporter": "python",
   "pygments_lexer": "ipython3",
   "version": "3.7.9"
  }
 },
 "nbformat": 4,
 "nbformat_minor": 5
}
