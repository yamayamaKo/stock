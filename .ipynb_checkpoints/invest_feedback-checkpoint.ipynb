{
 "cells": [
  {
   "cell_type": "code",
   "execution_count": 4,
   "id": "competitive-cameroon",
   "metadata": {},
   "outputs": [
    {
     "name": "stdout",
     "output_type": "stream",
     "text": [
      "    Unnamed: 0  trades  Total return  Average Gain  Average Loss        勝率  \\\n",
      "0         ATVI       3         15.76          5.00          0.00  1.000000   \n",
      "1          AMD       3          3.85         11.23         -3.34  0.333333   \n",
      "2         ALXN       4        -17.27          0.00         -4.60  0.000000   \n",
      "3         ALGN       5         31.24         61.74         -5.05  0.200000   \n",
      "4        GOOGL       2         12.49          6.09          0.00  1.000000   \n",
      "..         ...     ...           ...           ...           ...       ...   \n",
      "99         WBA       2          1.41          7.89         -6.00  0.500000   \n",
      "100       WDAY       3         -1.30          5.00         -3.00  0.333333   \n",
      "101        XEL       2         -6.00          0.00         -3.00  0.000000   \n",
      "102       XLNX       4          6.91          6.66         -3.00  0.500000   \n",
      "103         ZM       9         -7.25          3.26         -2.78  0.333333   \n",
      "\n",
      "     Average gain and profit  \n",
      "0                   5.000000  \n",
      "1                   1.518712  \n",
      "2                  -4.597563  \n",
      "3                   8.312358  \n",
      "4                   6.089500  \n",
      "..                       ...  \n",
      "99                  0.943884  \n",
      "100                -0.333333  \n",
      "101                -3.000000  \n",
      "102                 1.830749  \n",
      "103                -0.766755  \n",
      "\n",
      "[104 rows x 7 columns]\n",
      "|trade average| |2.701923076923077|\n",
      "|total return average| |14.372692307692308|\n",
      "|gain average| |17.156153846153845|\n",
      "|loss average| |-3.237307692307692|\n",
      "|Batting ratio average| |0.4666208791208791|\n",
      "|Average gain and profit| |9.64914456687258|\n"
     ]
    }
   ],
   "source": [
    "import pandas as pd\n",
    "\n",
    "df = pd.read_csv('turtle/./turtle_result.csv')\n",
    "\n",
    "print(df)\n",
    "\n",
    "trades_ave = df['trades'].mean()\n",
    "total_return_ave = df['Total return'].mean()\n",
    "average_gain_ave = df['Average Gain'].mean()\n",
    "average_loss_ave = df['Average Loss'].mean()\n",
    "average_batting_ratio = df['勝率'].mean()\n",
    "ave_total = df['Average gain and profit'].mean()\n",
    "ave_holding = df['average_holding_period'].mean()\n",
    "\n",
    "print('|trade average| |{}|'.format(trades_ave))\n",
    "print('|total return average| |{}|'.format(total_return_ave))\n",
    "print('|gain average| |{}|'.format(average_gain_ave))\n",
    "print('|loss average| |{}|'.format(average_loss_ave))\n",
    "print('|Batting ratio average| |{}|'.format(average_batting_ratio))\n",
    "print('|Average gain and profit| |{}|'.format(ave_total))\n",
    "print('|average_holding_period| |{}|'.format(ave_holding))\n",
    "\n",
    "\n",
    "\n",
    "#['ATVI', 'AMD', 'ALXN', 'ALGN', 'GOOGL', 'GOOG', 'AMZN', 'AEP', 'AMGN', 'ADI'\n",
    "#         , 'ANSYS', 'ANSS', 'AAPL', 'AMAT', 'ASML', 'TEAM', 'ADSK', 'ADP', 'BIDU', 'BIIB', 'BKNG'\n",
    "#         , 'AVGO', 'CDNS', 'CDW', 'CDW', 'CERN', 'CHTR', 'CHKP', 'CTAS', 'CSCO', 'CTSH', 'CMCSA'\n",
    "#         , 'CPRT', 'COST', 'CSX', 'DXCM', 'DOCU', 'DLTR', 'EBAY', 'EA', 'EXC', 'FB', 'FAST'\n",
    "#         , 'FISV', 'FOXA', 'FOX', 'GILD', 'IDXX', 'ILMN', 'INCY', 'INTC', 'INTU', 'ISRG', 'JD'\n",
    "#         , 'KDP', 'KLAC', 'KHC', 'LRCX', 'LULU', 'MAR', 'MRVL', 'MTCH', 'MXIM', 'MELI', 'MCHP', 'MU'\n",
    "#         , 'MSFT', 'MRNA', 'MDLZ', 'MNST', 'NTES', 'NFLX', 'NVDA', 'NXPI', 'ORLY', 'OKTA', 'PCAR', 'PAYX'\n",
    "#         , 'PYPL', 'PTON', 'PEP', 'PDD', 'QUALCOMM', 'QCOM', 'REGN', 'ROST', 'SGEN', 'SIRI', 'SWKS', 'SPLK'\n",
    "#         , 'SBUX', 'SNPS', 'TMUS', 'TSLA', 'TXN', 'TCOM', 'VRSN', 'VRSK', 'VRTX', 'WBA', 'WDAY', 'XEL', 'XLNX'\n",
    "#         , 'ZM']"
   ]
  }
 ],
 "metadata": {
  "kernelspec": {
   "display_name": "Python 3",
   "language": "python",
   "name": "python3"
  },
  "language_info": {
   "codemirror_mode": {
    "name": "ipython",
    "version": 3
   },
   "file_extension": ".py",
   "mimetype": "text/x-python",
   "name": "python",
   "nbconvert_exporter": "python",
   "pygments_lexer": "ipython3",
   "version": "3.7.9"
  }
 },
 "nbformat": 4,
 "nbformat_minor": 5
}
