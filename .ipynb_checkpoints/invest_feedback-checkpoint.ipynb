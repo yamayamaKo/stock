{
 "cells": [
  {
   "cell_type": "code",
   "execution_count": 14,
   "id": "competitive-cameroon",
   "metadata": {},
   "outputs": [
    {
     "name": "stdout",
     "output_type": "stream",
     "text": [
      "    Unnamed: 0  trades  Total return  Average Gain  Average Loss        勝率  \\\n",
      "0         ATVI      17         61.52         12.11         -4.10  0.470588   \n",
      "1          AMD      17        167.38         33.07         -7.98  0.411765   \n",
      "2         ALXN      12        -40.39          0.96         -4.66  0.083333   \n",
      "3         ALGN      18        189.34         33.57         -6.31  0.388889   \n",
      "4        GOOGL      15         32.55          4.86         -2.23  0.600000   \n",
      "..         ...     ...           ...           ...           ...       ...   \n",
      "99         WBA      10        -10.47         11.98         -4.08  0.200000   \n",
      "100       WDAY      16        -33.19          6.77         -5.37  0.250000   \n",
      "101        XEL      14         24.15          5.63         -2.26  0.500000   \n",
      "102       XLNX      17         10.73          5.08         -5.36  0.588235   \n",
      "103         ZM       3        284.65        113.58        -11.37  0.666667   \n",
      "\n",
      "     Average gain and profit  \n",
      "0                   3.529689  \n",
      "1                   8.923794  \n",
      "2                  -4.191065  \n",
      "3                   9.202424  \n",
      "4                   2.022400  \n",
      "..                       ...  \n",
      "99                 -0.868724  \n",
      "100                -2.330946  \n",
      "101                 1.688858  \n",
      "102                 0.781566  \n",
      "103                71.930020  \n",
      "\n",
      "[104 rows x 7 columns]\n",
      "|trade average| |14.10576923076923|\n",
      "|total return average| |52.793365384615385|\n",
      "|gain average| |15.20798076923077|\n",
      "|loss average| |-4.8575961538461545|\n",
      "|Batting ratio average| |0.42128536845619785|\n",
      "|Average gain and profit| |3.9683589745819337|\n"
     ]
    }
   ],
   "source": [
    "import pandas as pd\n",
    "\n",
    "df = pd.read_csv('turtle/./turtle_result.csv')\n",
    "\n",
    "print(df)\n",
    "\n",
    "trades_ave = df['trades'].mean()\n",
    "total_return_ave = df['Total return'].mean()\n",
    "average_gain_ave = df['Average Gain'].mean()\n",
    "average_loss_ave = df['Average Loss'].mean()\n",
    "average_batting_ratio = df['勝率'].mean()\n",
    "ave_total = df['Average gain and profit'].mean()\n",
    "\n",
    "print('|trade average| |{}|'.format(trades_ave))\n",
    "print('|total return average| |{}|'.format(total_return_ave))\n",
    "print('|gain average| |{}|'.format(average_gain_ave))\n",
    "print('|loss average| |{}|'.format(average_loss_ave))\n",
    "print('|Batting ratio average| |{}|'.format(average_batting_ratio))\n",
    "print('|Average gain and profit| |{}|'.format(ave_total))\n",
    "\n",
    "\n",
    "\n",
    "#['ATVI', 'AMD', 'ALXN', 'ALGN', 'GOOGL', 'GOOG', 'AMZN', 'AEP', 'AMGN', 'ADI'\n",
    "#         , 'ANSYS', 'ANSS', 'AAPL', 'AMAT', 'ASML', 'TEAM', 'ADSK', 'ADP', 'BIDU', 'BIIB', 'BKNG'\n",
    "#         , 'AVGO', 'CDNS', 'CDW', 'CDW', 'CERN', 'CHTR', 'CHKP', 'CTAS', 'CSCO', 'CTSH', 'CMCSA'\n",
    "#         , 'CPRT', 'COST', 'CSX', 'DXCM', 'DOCU', 'DLTR', 'EBAY', 'EA', 'EXC', 'FB', 'FAST'\n",
    "#         , 'FISV', 'FOXA', 'FOX', 'GILD', 'IDXX', 'ILMN', 'INCY', 'INTC', 'INTU', 'ISRG', 'JD'\n",
    "#         , 'KDP', 'KLAC', 'KHC', 'LRCX', 'LULU', 'MAR', 'MRVL', 'MTCH', 'MXIM', 'MELI', 'MCHP', 'MU'\n",
    "#         , 'MSFT', 'MRNA', 'MDLZ', 'MNST', 'NTES', 'NFLX', 'NVDA', 'NXPI', 'ORLY', 'OKTA', 'PCAR', 'PAYX'\n",
    "#         , 'PYPL', 'PTON', 'PEP', 'PDD', 'QUALCOMM', 'QCOM', 'REGN', 'ROST', 'SGEN', 'SIRI', 'SWKS', 'SPLK'\n",
    "#         , 'SBUX', 'SNPS', 'TMUS', 'TSLA', 'TXN', 'TCOM', 'VRSN', 'VRSK', 'VRTX', 'WBA', 'WDAY', 'XEL', 'XLNX'\n",
    "#         , 'ZM']"
   ]
  }
 ],
 "metadata": {
  "kernelspec": {
   "display_name": "Python 3",
   "language": "python",
   "name": "python3"
  },
  "language_info": {
   "codemirror_mode": {
    "name": "ipython",
    "version": 3
   },
   "file_extension": ".py",
   "mimetype": "text/x-python",
   "name": "python",
   "nbconvert_exporter": "python",
   "pygments_lexer": "ipython3",
   "version": "3.7.9"
  }
 },
 "nbformat": 4,
 "nbformat_minor": 5
}
