{
 "cells": [
  {
   "cell_type": "code",
   "execution_count": 2,
   "id": "logical-alert",
   "metadata": {},
   "outputs": [
    {
     "name": "stdout",
     "output_type": "stream",
     "text": [
      "   Unnamed: 0  trades  Total return  Average Gain  Average Loss         勝率\n",
      "0           0     190          0.77          0.02         -5.76  97.368421\n",
      "1           1     192          1.06          0.18         -6.18  97.916667\n",
      "2           2     197          1.25          0.18         -5.97  98.984772\n"
     ]
    }
   ],
   "source": [
    "import pandas as pd\n",
    "\n",
    "df = pd.read_csv('./result.csv')\n",
    "# print(df)\n",
    "\n",
    "trades_ave = df['trades'].mean()\n",
    "total_return_ave = df['Total return'].mean()\n",
    "average_gain_ave = df['Average Gain'].mean()\n",
    "average_loss_ave = df['Average Loss'].mean()\n",
    "average_batting_ratio = df['勝率'].mean()\n",
    "print('trade average: {}'.format(trades_ave))\n",
    "print('total return average: {}'.format(total_return_ave))\n",
    "print('gain average: {}'.format(average_gain_ave))\n",
    "print('loss average: {}'.format(average_loss_ave))\n",
    "print('Batting ratio average: {}'.format(average_batting_ratio))"
   ]
  }
 ],
 "metadata": {
  "kernelspec": {
   "display_name": "Python 3",
   "language": "python",
   "name": "python3"
  },
  "language_info": {
   "codemirror_mode": {
    "name": "ipython",
    "version": 3
   },
   "file_extension": ".py",
   "mimetype": "text/x-python",
   "name": "python",
   "nbconvert_exporter": "python",
   "pygments_lexer": "ipython3",
   "version": "3.7.9"
  }
 },
 "nbformat": 4,
 "nbformat_minor": 5
}
