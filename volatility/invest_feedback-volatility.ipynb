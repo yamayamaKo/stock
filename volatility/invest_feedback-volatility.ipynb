{
 "cells": [
  {
   "cell_type": "code",
   "execution_count": 6,
   "id": "competitive-cameroon",
   "metadata": {},
   "outputs": [
    {
     "name": "stdout",
     "output_type": "stream",
     "text": [
      "    Unnamed: 0  trades  Total return  Average Gain  Average Loss    勝率  \\\n",
      "0         ATVI     8.0         39.40         14.51         -4.13  0.50   \n",
      "1         ADBE     9.0         85.92         36.27         -3.00  0.33   \n",
      "2          AMD     4.0         -1.71         11.23         -4.00  0.25   \n",
      "3         ALXN     7.0        -27.79          0.00         -4.51  0.00   \n",
      "4         ALGN     8.0        153.91        107.38         -4.00  0.25   \n",
      "..         ...     ...           ...           ...           ...   ...   \n",
      "100        WBA     2.0          1.41          7.89         -6.00  0.50   \n",
      "101       WDAY    13.0        -34.18          5.00         -5.47  0.23   \n",
      "102        XEL     1.0          0.00          0.00          0.00  0.00   \n",
      "103       XLNX     3.0         -6.52          0.00         -2.18  0.00   \n",
      "104         ZM     0.0          0.00          0.00          0.00  0.00   \n",
      "\n",
      "     Average gain and profit  average holding period  \n",
      "0                       5.19                  148.67  \n",
      "1                      10.09                  129.22  \n",
      "2                      -0.19                   18.25  \n",
      "3                      -4.51                   29.00  \n",
      "4                      23.84                  118.86  \n",
      "..                       ...                     ...  \n",
      "100                     0.94                   27.00  \n",
      "101                    -3.06                   23.91  \n",
      "102                     0.00                   35.00  \n",
      "103                    -2.18                   45.00  \n",
      "104                     0.00                     NaN  \n",
      "\n",
      "[105 rows x 8 columns]\n",
      "|trade average| |5.038834951456311|\n",
      "|total return average| |38.289223300970875|\n",
      "|gain average| |17.040679611650486|\n",
      "|loss average| |-3.780097087378641|\n",
      "|Batting ratio average| |0.3812621359223301|\n",
      "|Average gain and profit| |5.670291262135922|\n",
      "|average_holding_period| |95.08729166666667|\n",
      "|Time efficiency| |0.0596324825615332|\n"
     ]
    }
   ],
   "source": [
    "import pandas as pd\n",
    "\n",
    "df = pd.read_csv('./Volatility_result.csv')\n",
    "\n",
    "print(df)\n",
    "\n",
    "trades_ave = df['trades'].mean()\n",
    "total_return_ave = df['Total return'].mean()\n",
    "average_gain_ave = df['Average Gain'].mean()\n",
    "average_loss_ave = df['Average Loss'].mean()\n",
    "average_batting_ratio = df['勝率'].mean()\n",
    "ave_total = df['Average gain and profit'].mean()\n",
    "ave_holding = df['average holding period'].mean()\n",
    "\n",
    "print('|trade average| |{}|'.format(trades_ave))\n",
    "print('|total return average| |{}|'.format(total_return_ave))\n",
    "print('|gain average| |{}|'.format(average_gain_ave))\n",
    "print('|loss average| |{}|'.format(average_loss_ave))\n",
    "print('|Batting ratio average| |{}|'.format(average_batting_ratio))\n",
    "print('|Average gain and profit| |{}|'.format(ave_total))\n",
    "print('|average_holding_period| |{}|'.format(ave_holding))\n",
    "print('|Time efficiency| |{}|'.format(ave_total/ave_holding))\n",
    "\n",
    "\n",
    "#['ATVI', 'AMD', 'ALXN', 'ALGN', 'GOOGL', 'GOOG', 'AMZN', 'AEP', 'AMGN', 'ADI'\n",
    "#         , 'ANSYS', 'ANSS', 'AAPL', 'AMAT', 'ASML', 'TEAM', 'ADSK', 'ADP', 'BIDU', 'BIIB', 'BKNG'\n",
    "#         , 'AVGO', 'CDNS', 'CDW', 'CDW', 'CERN', 'CHTR', 'CHKP', 'CTAS', 'CSCO', 'CTSH', 'CMCSA'\n",
    "#         , 'CPRT', 'COST', 'CSX', 'DXCM', 'DOCU', 'DLTR', 'EBAY', 'EA', 'EXC', 'FB', 'FAST'\n",
    "#         , 'FISV', 'FOXA', 'FOX', 'GILD', 'IDXX', 'ILMN', 'INCY', 'INTC', 'INTU', 'ISRG', 'JD'\n",
    "#         , 'KDP', 'KLAC', 'KHC', 'LRCX', 'LULU', 'MAR', 'MRVL', 'MTCH', 'MXIM', 'MELI', 'MCHP', 'MU'\n",
    "#         , 'MSFT', 'MRNA', 'MDLZ', 'MNST', 'NTES', 'NFLX', 'NVDA', 'NXPI', 'ORLY', 'OKTA', 'PCAR', 'PAYX'\n",
    "#         , 'PYPL', 'PTON', 'PEP', 'PDD', 'QUALCOMM', 'QCOM', 'REGN', 'ROST', 'SGEN', 'SIRI', 'SWKS', 'SPLK'\n",
    "#         , 'SBUX', 'SNPS', 'TMUS', 'TSLA', 'TXN', 'TCOM', 'VRSN', 'VRSK', 'VRTX', 'WBA', 'WDAY', 'XEL', 'XLNX'\n",
    "#         , 'ZM']"
   ]
  }
 ],
 "metadata": {
  "kernelspec": {
   "display_name": "Python 3",
   "language": "python",
   "name": "python3"
  },
  "language_info": {
   "codemirror_mode": {
    "name": "ipython",
    "version": 3
   },
   "file_extension": ".py",
   "mimetype": "text/x-python",
   "name": "python",
   "nbconvert_exporter": "python",
   "pygments_lexer": "ipython3",
   "version": "3.7.9"
  }
 },
 "nbformat": 4,
 "nbformat_minor": 5
}
