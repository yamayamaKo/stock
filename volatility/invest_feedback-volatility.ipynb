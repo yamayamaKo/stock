{
 "cells": [
  {
   "cell_type": "code",
   "execution_count": 3,
   "id": "competitive-cameroon",
   "metadata": {},
   "outputs": [
    {
     "name": "stdout",
     "output_type": "stream",
     "text": [
      "    Unnamed: 0  trades  Total return  Average Gain  Average Loss        勝率  \\\n",
      "0         ATVI      12        102.62          9.47         -2.00  0.750000   \n",
      "1         ADBE       8        166.43         26.37         -0.71  0.625000   \n",
      "2          AMD      26         69.87         12.14         -3.49  0.384615   \n",
      "3         ALXN      13        -39.28          0.00         -3.72  0.000000   \n",
      "4         ALGN      15        315.12         59.13         -3.89  0.333333   \n",
      "..         ...     ...           ...           ...           ...       ...   \n",
      "100        WBA       9        -18.13          8.94         -5.14  0.222222   \n",
      "101       WDAY      15         -8.96          5.67         -4.56  0.400000   \n",
      "102        XEL       4         59.66         80.69         -4.00  0.250000   \n",
      "103       XLNX      20        -13.39          6.78         -3.69  0.300000   \n",
      "104         ZM      11         24.62         13.18         -3.24  0.363636   \n",
      "\n",
      "     Average gain and profit  average holding period  \n",
      "0                   6.604541              118.700000  \n",
      "1                  16.218209              246.200000  \n",
      "2                   2.524518               19.500000  \n",
      "3                  -3.722327               30.846154  \n",
      "4                  17.115959              104.454545  \n",
      "..                       ...                     ...  \n",
      "100                -2.012470               55.000000  \n",
      "101                -0.470960               42.727273  \n",
      "102                17.173549              436.500000  \n",
      "103                -0.552031               45.777778  \n",
      "104                 2.730712                4.800000  \n",
      "\n",
      "[105 rows x 8 columns]\n",
      "|trade average| |10.619047619047619|\n",
      "|total return average| |83.18142857142858|\n",
      "|gain average| |22.67752380952381|\n",
      "|loss average| |-3.805142857142857|\n",
      "|Batting ratio average| |0.41503580764084963|\n",
      "|Average gain and profit| |8.09655013250506|\n",
      "|average_holding_period| |112.86269894127035|\n",
      "|Time efficiency| |0.07173805170757268|\n"
     ]
    }
   ],
   "source": [
    "import pandas as pd\n",
    "\n",
    "df = pd.read_csv('./Volatility_result.csv')\n",
    "\n",
    "print(df)\n",
    "\n",
    "trades_ave = df['trades'].mean()\n",
    "total_return_ave = df['Total return'].mean()\n",
    "average_gain_ave = df['Average Gain'].mean()\n",
    "average_loss_ave = df['Average Loss'].mean()\n",
    "average_batting_ratio = df['勝率'].mean()\n",
    "ave_total = df['Average gain and profit'].mean()\n",
    "ave_holding = df['average holding period'].mean()\n",
    "\n",
    "print('|trade average| |{}|'.format(trades_ave))\n",
    "print('|total return average| |{}|'.format(total_return_ave))\n",
    "print('|gain average| |{}|'.format(average_gain_ave))\n",
    "print('|loss average| |{}|'.format(average_loss_ave))\n",
    "print('|Batting ratio average| |{}|'.format(average_batting_ratio))\n",
    "print('|Average gain and profit| |{}|'.format(ave_total))\n",
    "print('|average_holding_period| |{}|'.format(ave_holding))\n",
    "print('|Time efficiency| |{}|'.format(ave_total/ave_holding))\n",
    "\n",
    "\n",
    "#['ATVI', 'AMD', 'ALXN', 'ALGN', 'GOOGL', 'GOOG', 'AMZN', 'AEP', 'AMGN', 'ADI'\n",
    "#         , 'ANSYS', 'ANSS', 'AAPL', 'AMAT', 'ASML', 'TEAM', 'ADSK', 'ADP', 'BIDU', 'BIIB', 'BKNG'\n",
    "#         , 'AVGO', 'CDNS', 'CDW', 'CDW', 'CERN', 'CHTR', 'CHKP', 'CTAS', 'CSCO', 'CTSH', 'CMCSA'\n",
    "#         , 'CPRT', 'COST', 'CSX', 'DXCM', 'DOCU', 'DLTR', 'EBAY', 'EA', 'EXC', 'FB', 'FAST'\n",
    "#         , 'FISV', 'FOXA', 'FOX', 'GILD', 'IDXX', 'ILMN', 'INCY', 'INTC', 'INTU', 'ISRG', 'JD'\n",
    "#         , 'KDP', 'KLAC', 'KHC', 'LRCX', 'LULU', 'MAR', 'MRVL', 'MTCH', 'MXIM', 'MELI', 'MCHP', 'MU'\n",
    "#         , 'MSFT', 'MRNA', 'MDLZ', 'MNST', 'NTES', 'NFLX', 'NVDA', 'NXPI', 'ORLY', 'OKTA', 'PCAR', 'PAYX'\n",
    "#         , 'PYPL', 'PTON', 'PEP', 'PDD', 'QUALCOMM', 'QCOM', 'REGN', 'ROST', 'SGEN', 'SIRI', 'SWKS', 'SPLK'\n",
    "#         , 'SBUX', 'SNPS', 'TMUS', 'TSLA', 'TXN', 'TCOM', 'VRSN', 'VRSK', 'VRTX', 'WBA', 'WDAY', 'XEL', 'XLNX'\n",
    "#         , 'ZM']"
   ]
  }
 ],
 "metadata": {
  "kernelspec": {
   "display_name": "Python 3",
   "language": "python",
   "name": "python3"
  },
  "language_info": {
   "codemirror_mode": {
    "name": "ipython",
    "version": 3
   },
   "file_extension": ".py",
   "mimetype": "text/x-python",
   "name": "python",
   "nbconvert_exporter": "python",
   "pygments_lexer": "ipython3",
   "version": "3.7.9"
  }
 },
 "nbformat": 4,
 "nbformat_minor": 5
}
