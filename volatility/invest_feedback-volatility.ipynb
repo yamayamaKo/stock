{
 "cells": [
  {
   "cell_type": "code",
   "execution_count": 3,
   "id": "competitive-cameroon",
   "metadata": {},
   "outputs": [
    {
     "name": "stdout",
     "output_type": "stream",
     "text": [
      "    Unnamed: 0  trades  Total return  Average Gain  Average Loss   勝率  \\\n",
      "0         ATVI     3.0        -17.56          0.00         -6.23  0.0   \n",
      "1         ADBE     1.0          5.00          5.00          0.00  1.0   \n",
      "2          AMD     1.0         41.87         41.87          0.00  1.0   \n",
      "3         ALXN     1.0         -6.00          0.00         -6.00  0.0   \n",
      "4         ALGN     3.0        -12.66          0.00         -4.36  0.0   \n",
      "..         ...     ...           ...           ...           ...  ...   \n",
      "100        WBA     0.0          0.00          0.00          0.00  0.0   \n",
      "101       WDAY     0.0          0.00          0.00          0.00  0.0   \n",
      "102        XEL     1.0          0.00          0.00          0.00  0.0   \n",
      "103       XLNX     2.0         -6.23          0.00         -3.11  0.0   \n",
      "104         ZM     0.0          0.00          0.00          0.00  0.0   \n",
      "\n",
      "     Average gain and profit  average holding period  \n",
      "0                  -6.232288                     7.5  \n",
      "1                   5.000000                    15.0  \n",
      "2                  41.867620                   194.0  \n",
      "3                  -6.000000                    21.0  \n",
      "4                  -4.363404                    21.0  \n",
      "..                       ...                     ...  \n",
      "100                 0.000000                    15.0  \n",
      "101                 0.000000                    15.0  \n",
      "102                 0.000000                    35.0  \n",
      "103                -3.114876                    45.0  \n",
      "104                 0.000000                    45.0  \n",
      "\n",
      "[105 rows x 8 columns]\n",
      "|trade average| |1.1650485436893203|\n",
      "|total return average| |0.9295145631067959|\n",
      "|gain average| |4.138252427184466|\n",
      "|loss average| |-2.070388349514563|\n",
      "|Batting ratio average| |0.28398058252427183|\n",
      "|Average gain and profit| |1.4788267000642945|\n",
      "|average_holding_period| |39.275080906148865|\n",
      "|Time efficiency| |0.03765305292681831|\n"
     ]
    }
   ],
   "source": [
    "import pandas as pd\n",
    "\n",
    "df = pd.read_csv('./Volatility_result.csv')\n",
    "\n",
    "print(df)\n",
    "\n",
    "trades_ave = df['trades'].mean()\n",
    "total_return_ave = df['Total return'].mean()\n",
    "average_gain_ave = df['Average Gain'].mean()\n",
    "average_loss_ave = df['Average Loss'].mean()\n",
    "average_batting_ratio = df['勝率'].mean()\n",
    "ave_total = df['Average gain and profit'].mean()\n",
    "ave_holding = df['average holding period'].mean()\n",
    "\n",
    "print('|trade average| |{}|'.format(trades_ave))\n",
    "print('|total return average| |{}|'.format(total_return_ave))\n",
    "print('|gain average| |{}|'.format(average_gain_ave))\n",
    "print('|loss average| |{}|'.format(average_loss_ave))\n",
    "print('|Batting ratio average| |{}|'.format(average_batting_ratio))\n",
    "print('|Average gain and profit| |{}|'.format(ave_total))\n",
    "print('|average_holding_period| |{}|'.format(ave_holding))\n",
    "print('|Time efficiency| |{}|'.format(ave_total/ave_holding))\n",
    "\n",
    "\n",
    "#['ATVI', 'AMD', 'ALXN', 'ALGN', 'GOOGL', 'GOOG', 'AMZN', 'AEP', 'AMGN', 'ADI'\n",
    "#         , 'ANSYS', 'ANSS', 'AAPL', 'AMAT', 'ASML', 'TEAM', 'ADSK', 'ADP', 'BIDU', 'BIIB', 'BKNG'\n",
    "#         , 'AVGO', 'CDNS', 'CDW', 'CDW', 'CERN', 'CHTR', 'CHKP', 'CTAS', 'CSCO', 'CTSH', 'CMCSA'\n",
    "#         , 'CPRT', 'COST', 'CSX', 'DXCM', 'DOCU', 'DLTR', 'EBAY', 'EA', 'EXC', 'FB', 'FAST'\n",
    "#         , 'FISV', 'FOXA', 'FOX', 'GILD', 'IDXX', 'ILMN', 'INCY', 'INTC', 'INTU', 'ISRG', 'JD'\n",
    "#         , 'KDP', 'KLAC', 'KHC', 'LRCX', 'LULU', 'MAR', 'MRVL', 'MTCH', 'MXIM', 'MELI', 'MCHP', 'MU'\n",
    "#         , 'MSFT', 'MRNA', 'MDLZ', 'MNST', 'NTES', 'NFLX', 'NVDA', 'NXPI', 'ORLY', 'OKTA', 'PCAR', 'PAYX'\n",
    "#         , 'PYPL', 'PTON', 'PEP', 'PDD', 'QUALCOMM', 'QCOM', 'REGN', 'ROST', 'SGEN', 'SIRI', 'SWKS', 'SPLK'\n",
    "#         , 'SBUX', 'SNPS', 'TMUS', 'TSLA', 'TXN', 'TCOM', 'VRSN', 'VRSK', 'VRTX', 'WBA', 'WDAY', 'XEL', 'XLNX'\n",
    "#         , 'ZM']"
   ]
  }
 ],
 "metadata": {
  "kernelspec": {
   "display_name": "Python 3",
   "language": "python",
   "name": "python3"
  },
  "language_info": {
   "codemirror_mode": {
    "name": "ipython",
    "version": 3
   },
   "file_extension": ".py",
   "mimetype": "text/x-python",
   "name": "python",
   "nbconvert_exporter": "python",
   "pygments_lexer": "ipython3",
   "version": "3.7.9"
  }
 },
 "nbformat": 4,
 "nbformat_minor": 5
}
