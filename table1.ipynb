{
 "cells": [
  {
   "cell_type": "code",
   "execution_count": 20,
   "id": "human-uzbekistan",
   "metadata": {},
   "outputs": [
    {
     "ename": "SyntaxError",
     "evalue": "invalid syntax (<ipython-input-20-56886f50ff41>, line 32)",
     "output_type": "error",
     "traceback": [
      "\u001b[0;36m  File \u001b[0;32m\"<ipython-input-20-56886f50ff41>\"\u001b[0;36m, line \u001b[0;32m32\u001b[0m\n\u001b[0;31m    curl \"https://www.quandl.com/api/v3/datasets/WIKI/FB/data.csv?api_key=a1rqWAeiZZ5xw_mcviUw\"\u001b[0m\n\u001b[0m                                                                                              ^\u001b[0m\n\u001b[0;31mSyntaxError\u001b[0m\u001b[0;31m:\u001b[0m invalid syntax\n"
     ]
    }
   ],
   "source": [
    "import numpy as np\n",
    "import pandas as pd\n",
    "import yfinance as yf\n",
    "import datetime as dt\n",
    "import mplfinance as mpl\n",
    "import quandl \n",
    "\n",
    "# df = pd.read_csv('./TOPIX.csv')\n",
    "\n",
    "# # print(df)\n",
    "\n",
    "# sign = []\n",
    "# for symbol in df['symbol']:\n",
    "#     sign.append(symbol)\n",
    "\n",
    "# # print(sign)\n",
    "\n",
    "# for i in sign:\n",
    "    \n",
    "brand = \"TSE/i\"\n",
    "#     #api 認証\n",
    "quandl.ApiConfig.api_key = \"a1rqWAeiZZ5xw_mcviUw\"\n",
    "    \n",
    "\n",
    "quandl_data = quandl.get(dataset=brand, returns='pandas')\n",
    "\n",
    "#         print(quandl_data)\n",
    "    \n",
    "#     except KeyError:\n",
    "#         print('error')\n",
    "\n",
    "\n"
   ]
  },
  {
   "cell_type": "code",
   "execution_count": null,
   "id": "packed-mozambique",
   "metadata": {},
   "outputs": [],
   "source": []
  }
 ],
 "metadata": {
  "kernelspec": {
   "display_name": "Python 3",
   "language": "python",
   "name": "python3"
  },
  "language_info": {
   "codemirror_mode": {
    "name": "ipython",
    "version": 3
   },
   "file_extension": ".py",
   "mimetype": "text/x-python",
   "name": "python",
   "nbconvert_exporter": "python",
   "pygments_lexer": "ipython3",
   "version": "3.7.9"
  }
 },
 "nbformat": 4,
 "nbformat_minor": 5
}
